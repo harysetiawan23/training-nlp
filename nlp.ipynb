{
 "cells": [
  {
   "cell_type": "code",
   "execution_count": 9,
   "metadata": {},
   "outputs": [
    {
     "data": {
      "text/plain": [
       "(                                            sentence  emotion\n",
       " 0                            i didnt feel humiliated  sadness\n",
       " 1  i can go from feeling so hopeless to so damned...  sadness\n",
       " 2   im grabbing a minute to post i feel greedy wrong    anger\n",
       " 3  i am ever feeling nostalgic about the fireplac...     love\n",
       " 4                               i am feeling grouchy    anger,\n",
       "                                             sentence  emotion\n",
       " 0  im feeling quite sad and sorry for myself but ...  sadness\n",
       " 1  i feel like i am still looking at a blank canv...  sadness\n",
       " 2                     i feel like a faithful servant     love\n",
       " 3                  i am just feeling cranky and blue    anger\n",
       " 4  i can have for a treat or if i am feeling festive      joy,\n",
       "                                             sentence  emotion\n",
       " 0  im feeling rather rotten so im not very ambiti...  sadness\n",
       " 1          im updating my blog because i feel shitty  sadness\n",
       " 2  i never make her separate from me because i do...  sadness\n",
       " 3  i left with my bouquet of red and yellow tulip...      joy\n",
       " 4    i was feeling a little vain when i did this one  sadness)"
      ]
     },
     "execution_count": 9,
     "metadata": {},
     "output_type": "execute_result"
    }
   ],
   "source": [
    "import pandas as pd\n",
    "train_df = pd.read_csv(\"./dataset/train.csv\",sep=\";\",names=['sentence','emotion'])\n",
    "val_df = pd.read_csv(\"./dataset/val.csv\",sep=\";\",names=['sentence','emotion'])\n",
    "test_df = pd.read_csv(\"./dataset/test.csv\",sep=\";\",names=['sentence','emotion'])\n",
    "train_df.head(5),val_df.head(5),test_df.head(5)"
   ]
  },
  {
   "cell_type": "code",
   "execution_count": 10,
   "metadata": {},
   "outputs": [
    {
     "data": {
      "text/plain": [
       "(         sentence                                                            \\\n",
       "             count unique                                                top   \n",
       " emotion                                                                       \n",
       " anger        2159   2159               i have loved not feeling rushed here   \n",
       " fear         1937   1937        i feel agitated i become easily overwhelmed   \n",
       " joy          5362   5361  i feel more adventurous willing to take risks ...   \n",
       " love         1304   1304  i wake up i realize that my panty is wet and i...   \n",
       " sadness      4666   4666        i have spent today feeling horribly unhappy   \n",
       " surprise      572    572  i know theres no hurry to get it done but it s...   \n",
       " \n",
       "                \n",
       "          freq  \n",
       " emotion        \n",
       " anger       1  \n",
       " fear        1  \n",
       " joy         2  \n",
       " love        1  \n",
       " sadness     1  \n",
       " surprise    1  ,\n",
       "          sentence                                                            \\\n",
       "             count unique                                                top   \n",
       " emotion                                                                       \n",
       " anger         275    275                  i am just feeling cranky and blue   \n",
       " fear          212    212  i wrote words without really feeling all that ...   \n",
       " joy           704    704  i experienced a v drink today which is suppose...   \n",
       " love          178    178  i feel like i am in paradise kissing those swe...   \n",
       " sadness       550    550  i feel i ve had more unhappy years than happy ...   \n",
       " surprise       81     81  i get a day off from writing and feeling press...   \n",
       " \n",
       "                \n",
       "          freq  \n",
       " emotion        \n",
       " anger       1  \n",
       " fear        1  \n",
       " joy         1  \n",
       " love        1  \n",
       " sadness     1  \n",
       " surprise    1  ,\n",
       "          sentence                                                            \\\n",
       "             count unique                                                top   \n",
       " emotion                                                                       \n",
       " anger         275    275  i am writing and sharing here is much more abo...   \n",
       " fear          224    224  i was supposed to feel sympathy for emma im af...   \n",
       " joy           695    695  i feel so smart when i find ways to trick myse...   \n",
       " love          159    159  i feel most passionate about that arouse my em...   \n",
       " sadness       581    581   i do feel discouraged by what my supervisor said   \n",
       " surprise       66     66  i started feeling a little funny but this was ...   \n",
       " \n",
       "                \n",
       "          freq  \n",
       " emotion        \n",
       " anger       1  \n",
       " fear        1  \n",
       " joy         1  \n",
       " love        1  \n",
       " sadness     1  \n",
       " surprise    1  )"
      ]
     },
     "execution_count": 10,
     "metadata": {},
     "output_type": "execute_result"
    }
   ],
   "source": [
    "train_df.groupby(['emotion']).describe(),val_df.groupby(['emotion']).describe(),test_df.groupby(['emotion']).describe()"
   ]
  },
  {
   "cell_type": "code",
   "execution_count": 11,
   "metadata": {},
   "outputs": [
    {
     "data": {
      "text/plain": [
       "array(['sadness', 'anger', 'love', 'surprise', 'fear', 'joy'],\n",
       "      dtype=object)"
      ]
     },
     "execution_count": 11,
     "metadata": {},
     "output_type": "execute_result"
    }
   ],
   "source": [
    "emotion = train_df['emotion'].unique()\n",
    "emotion"
   ]
  },
  {
   "cell_type": "code",
   "execution_count": 23,
   "metadata": {},
   "outputs": [
    {
     "name": "stdout",
     "output_type": "stream",
     "text": [
      "                                            sentence  emotion  emotion_code\n",
      "0                            i didnt feel humiliated  sadness             4\n",
      "1  i can go from feeling so hopeless to so damned...  sadness             4\n",
      "2   im grabbing a minute to post i feel greedy wrong    anger             0\n",
      "3  i am ever feeling nostalgic about the fireplac...     love             3\n",
      "4                               i am feeling grouchy    anger             0\n",
      "                                            sentence  emotion  emotion_code\n",
      "0  im feeling quite sad and sorry for myself but ...  sadness             4\n",
      "1  i feel like i am still looking at a blank canv...  sadness             4\n",
      "2                     i feel like a faithful servant     love             3\n",
      "3                  i am just feeling cranky and blue    anger             0\n",
      "4  i can have for a treat or if i am feeling festive      joy             2\n",
      "                                            sentence  emotion  emotion_code\n",
      "0  im feeling rather rotten so im not very ambiti...  sadness             4\n",
      "1          im updating my blog because i feel shitty  sadness             4\n",
      "2  i never make her separate from me because i do...  sadness             4\n",
      "3  i left with my bouquet of red and yellow tulip...      joy             2\n",
      "4    i was feeling a little vain when i did this one  sadness             4\n"
     ]
    }
   ],
   "source": [
    "from sklearn.preprocessing import LabelEncoder\n",
    "LE = LabelEncoder()\n",
    "\n",
    "train_df['emotion_code'] = LE.fit_transform(train_df['emotion'])\n",
    "val_df['emotion_code'] = LE.fit_transform(val_df['emotion'])\n",
    "test_df['emotion_code'] = LE.fit_transform(test_df['emotion'])\n",
    "\n",
    "print(train_df.head(5))\n",
    "print(val_df.head(5))\n",
    "print(test_df.head(5))"
   ]
  },
  {
   "cell_type": "code",
   "execution_count": 13,
   "metadata": {},
   "outputs": [],
   "source": [
    "from sklearn.feature_extraction.text import TfidfVectorizer\n",
    "import helper\n",
    "\n",
    "TFIDF = TfidfVectorizer(analyzer='word',stop_words='english',ngram_range=(1, 1), max_df=1.0, min_df=1, max_features=None)\n",
    "model = TFIDF.fit_transform(train_df['sentence'].apply(lambda x:helper.cleanDataset(x)))\n",
    "\n",
    "word = TFIDF.get_feature_names()\n",
    "word \n",
    "\n",
    "sentence_tfidf_df = pd.DataFrame(data=model.toarray(),columns=TFIDF.get_feature_names())"
   ]
  },
  {
   "cell_type": "code",
   "execution_count": 14,
   "metadata": {},
   "outputs": [
    {
     "data": {
      "text/plain": [
       "KNeighborsClassifier()"
      ]
     },
     "execution_count": 14,
     "metadata": {},
     "output_type": "execute_result"
    }
   ],
   "source": [
    "from sklearn.neighbors import KNeighborsClassifier\n",
    "\n",
    "knn = KNeighborsClassifier()\n",
    "knn.fit(sentence_tfidf_df,train_df['emotion_code'])"
   ]
  },
  {
   "cell_type": "code",
   "execution_count": 15,
   "metadata": {},
   "outputs": [
    {
     "data": {
      "text/plain": [
       "<2000x14870 sparse matrix of type '<class 'numpy.float64'>'\n",
       "\twith 14727 stored elements in Compressed Sparse Row format>"
      ]
     },
     "execution_count": 15,
     "metadata": {},
     "output_type": "execute_result"
    }
   ],
   "source": [
    "import helper\n",
    "\n",
    "vectorized = TFIDF.transform(val_df['sentence'].apply(lambda x : helper.cleanDataset(x)))\n",
    "vectorized"
   ]
  },
  {
   "cell_type": "code",
   "execution_count": 16,
   "metadata": {},
   "outputs": [
    {
     "data": {
      "text/plain": [
       "83.2"
      ]
     },
     "execution_count": 16,
     "metadata": {},
     "output_type": "execute_result"
    }
   ],
   "source": [
    "# Validation\n",
    "from sklearn.metrics import accuracy_score\n",
    "accuracy = accuracy_score(knn.predict(vectorized),val_df['emotion_code'])\n",
    "\n",
    "accuracy * 100"
   ]
  },
  {
   "cell_type": "code",
   "execution_count": 22,
   "metadata": {},
   "outputs": [
    {
     "name": "stdout",
     "output_type": "stream",
     "text": [
      "I glad you love it has ['joy'] emotion\n"
     ]
    }
   ],
   "source": [
    "## Try Custom Word\n",
    "sentences = \"I glad you love it\"\n",
    "custom_sentences = TFIDF.transform([helper.cleanDataset(sentence=sentences)])\n",
    "print(\"{} has {} emotion\".format(sentences,LE.inverse_transform(knn.predict(custom_sentences))))"
   ]
  }
 ],
 "metadata": {
  "interpreter": {
   "hash": "6eb5d4f892ac09bf1cf3f91c045b45e17b9cc666339e8a224cd014d404787b33"
  },
  "kernelspec": {
   "display_name": "Python 3.7.0 64-bit ('venv': venv)",
   "language": "python",
   "name": "python3"
  },
  "language_info": {
   "codemirror_mode": {
    "name": "ipython",
    "version": 3
   },
   "file_extension": ".py",
   "mimetype": "text/x-python",
   "name": "python",
   "nbconvert_exporter": "python",
   "pygments_lexer": "ipython3",
   "version": "3.7.0"
  },
  "orig_nbformat": 4
 },
 "nbformat": 4,
 "nbformat_minor": 2
}
