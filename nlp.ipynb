{
 "cells": [
  {
   "cell_type": "code",
   "execution_count": 63,
   "metadata": {},
   "outputs": [
    {
     "data": {
      "text/plain": [
       "(                                            sentence  emotion\n",
       " 0                            i didnt feel humiliated  sadness\n",
       " 1  i can go from feeling so hopeless to so damned...  sadness\n",
       " 2   im grabbing a minute to post i feel greedy wrong    anger\n",
       " 3  i am ever feeling nostalgic about the fireplac...     love\n",
       " 4                               i am feeling grouchy    anger,\n",
       "                                             sentence  emotion\n",
       " 0  im feeling quite sad and sorry for myself but ...  sadness\n",
       " 1  i feel like i am still looking at a blank canv...  sadness\n",
       " 2                     i feel like a faithful servant     love\n",
       " 3                  i am just feeling cranky and blue    anger\n",
       " 4  i can have for a treat or if i am feeling festive      joy,\n",
       "                                             sentence  emotion\n",
       " 0  im feeling rather rotten so im not very ambiti...  sadness\n",
       " 1          im updating my blog because i feel shitty  sadness\n",
       " 2  i never make her separate from me because i do...  sadness\n",
       " 3  i left with my bouquet of red and yellow tulip...      joy\n",
       " 4    i was feeling a little vain when i did this one  sadness)"
      ]
     },
     "execution_count": 63,
     "metadata": {},
     "output_type": "execute_result"
    }
   ],
   "source": [
    "import pandas as pd\n",
    "train_df = pd.read_csv(\"./dataset/train.csv\",sep=\";\",names=['sentence','emotion'])\n",
    "val_df = pd.read_csv(\"./dataset/val.csv\",sep=\";\",names=['sentence','emotion'])\n",
    "test_df = pd.read_csv(\"./dataset/test.csv\",sep=\";\",names=['sentence','emotion'])\n",
    "train_df.head(5),val_df.head(5),test_df.head(5)"
   ]
  },
  {
   "cell_type": "code",
   "execution_count": 64,
   "metadata": {},
   "outputs": [
    {
     "data": {
      "text/plain": [
       "(         sentence                                                            \\\n",
       "             count unique                                                top   \n",
       " emotion                                                                       \n",
       " anger        2159   2159  i was feeling a little grumpy thinking about e...   \n",
       " fear         1937   1937  i do and it is really starting to make me feel...   \n",
       " joy          5362   5361  i feel more adventurous willing to take risks ...   \n",
       " love         1304   1304  i feel very nostalgic because i have enjoyed t...   \n",
       " sadness      4666   4666             i feel idiotic and wierd in this class   \n",
       " surprise      572    572  i feel you might be quite amazed if ahead of y...   \n",
       " \n",
       "                \n",
       "          freq  \n",
       " emotion        \n",
       " anger       1  \n",
       " fear        1  \n",
       " joy         2  \n",
       " love        1  \n",
       " sadness     1  \n",
       " surprise    1  ,\n",
       "          sentence                                                            \\\n",
       "             count unique                                                top   \n",
       " emotion                                                                       \n",
       " anger         275    275  i am feeling too grouchy to be properly penite...   \n",
       " fear          212    212  i found out i was pregnant which is alot but i...   \n",
       " joy           704    704  i say this mostly because i wasnt feeling so w...   \n",
       " love          178    178  im still a little mixed on how i feel about hi...   \n",
       " sadness       550    550  i already did feel deprived when after claire ...   \n",
       " surprise       81     81  i feel i should make is how surprised but ente...   \n",
       " \n",
       "                \n",
       "          freq  \n",
       " emotion        \n",
       " anger       1  \n",
       " fear        1  \n",
       " joy         1  \n",
       " love        1  \n",
       " sadness     1  \n",
       " surprise    1  ,\n",
       "          sentence                                                            \\\n",
       "             count unique                                                top   \n",
       " emotion                                                                       \n",
       " anger         275    275  im not condoning terrorist action but you feel...   \n",
       " fear          224    224                i ever want to feel that vulnerable   \n",
       " joy           695    695  im feeling optimistic to finish out these last...   \n",
       " love          159    159  i do feel terribly remourseful that i didnt st...   \n",
       " sadness       581    581  i have noticed my fingers and toes get very co...   \n",
       " surprise       66     66             i feel this strange sort of liberation   \n",
       " \n",
       "                \n",
       "          freq  \n",
       " emotion        \n",
       " anger       1  \n",
       " fear        1  \n",
       " joy         1  \n",
       " love        1  \n",
       " sadness     1  \n",
       " surprise    1  )"
      ]
     },
     "execution_count": 64,
     "metadata": {},
     "output_type": "execute_result"
    }
   ],
   "source": [
    "train_df.groupby(['emotion']).describe(),val_df.groupby(['emotion']).describe(),test_df.groupby(['emotion']).describe()"
   ]
  },
  {
   "cell_type": "code",
   "execution_count": 10,
   "metadata": {},
   "outputs": [
    {
     "data": {
      "text/plain": [
       "array(['sadness', 'anger', 'love', 'surprise', 'fear', 'joy'],\n",
       "      dtype=object)"
      ]
     },
     "execution_count": 10,
     "metadata": {},
     "output_type": "execute_result"
    }
   ],
   "source": [
    "emotion = train_df['emotion'].unique()\n",
    "emotion"
   ]
  },
  {
   "cell_type": "code",
   "execution_count": 68,
   "metadata": {},
   "outputs": [
    {
     "data": {
      "text/plain": [
       "(                                                sentence  emotion  \\\n",
       " 0                                i didnt feel humiliated  sadness   \n",
       " 1      i can go from feeling so hopeless to so damned...  sadness   \n",
       " 2       im grabbing a minute to post i feel greedy wrong    anger   \n",
       " 3      i am ever feeling nostalgic about the fireplac...     love   \n",
       " 4                                   i am feeling grouchy    anger   \n",
       " ...                                                  ...      ...   \n",
       " 15995  i just had a very brief time in the beanbag an...  sadness   \n",
       " 15996  i am now turning and i feel pathetic that i am...  sadness   \n",
       " 15997                     i feel strong and good overall      joy   \n",
       " 15998  i feel like this was such a rude comment and i...    anger   \n",
       " 15999  i know a lot but i feel so stupid because i ca...  sadness   \n",
       " \n",
       "        emotion_code  \n",
       " 0                 4  \n",
       " 1                 4  \n",
       " 2                 0  \n",
       " 3                 3  \n",
       " 4                 0  \n",
       " ...             ...  \n",
       " 15995             4  \n",
       " 15996             4  \n",
       " 15997             2  \n",
       " 15998             0  \n",
       " 15999             4  \n",
       " \n",
       " [16000 rows x 3 columns],\n",
       "                                                sentence  emotion  emotion_code\n",
       " 0     im feeling quite sad and sorry for myself but ...  sadness             4\n",
       " 1     i feel like i am still looking at a blank canv...  sadness             4\n",
       " 2                        i feel like a faithful servant     love             3\n",
       " 3                     i am just feeling cranky and blue    anger             0\n",
       " 4     i can have for a treat or if i am feeling festive      joy             2\n",
       " ...                                                 ...      ...           ...\n",
       " 1995  im having ssa examination tomorrow in the morn...  sadness             4\n",
       " 1996  i constantly worry about their fight against n...      joy             2\n",
       " 1997  i feel its important to share this info for th...      joy             2\n",
       " 1998  i truly feel that if you are passionate enough...      joy             2\n",
       " 1999  i feel like i just wanna buy any cute make up ...      joy             2\n",
       " \n",
       " [2000 rows x 3 columns],\n",
       "                                                sentence  emotion  emotion_code\n",
       " 0     im feeling rather rotten so im not very ambiti...  sadness             4\n",
       " 1             im updating my blog because i feel shitty  sadness             4\n",
       " 2     i never make her separate from me because i do...  sadness             4\n",
       " 3     i left with my bouquet of red and yellow tulip...      joy             2\n",
       " 4       i was feeling a little vain when i did this one  sadness             4\n",
       " ...                                                 ...      ...           ...\n",
       " 1995  i just keep feeling like someone is being unki...    anger             0\n",
       " 1996  im feeling a little cranky negative after this...    anger             0\n",
       " 1997  i feel that i am useful to my people and that ...      joy             2\n",
       " 1998  im feeling more comfortable with derby i feel ...      joy             2\n",
       " 1999  i feel all weird when i have to meet w people ...     fear             1\n",
       " \n",
       " [2000 rows x 3 columns])"
      ]
     },
     "execution_count": 68,
     "metadata": {},
     "output_type": "execute_result"
    }
   ],
   "source": [
    "from sklearn.preprocessing import LabelEncoder\n",
    "LE = LabelEncoder()\n",
    "\n",
    "train_df['emotion_code'] = LE.fit_transform(train_df['emotion'])\n",
    "val_df['emotion_code'] = LE.fit_transform(val_df['emotion'])\n",
    "test_df['emotion_code'] = LE.fit_transform(test_df['emotion'])\n",
    "\n",
    "train_df,val_df,test_df"
   ]
  },
  {
   "cell_type": "code",
   "execution_count": 59,
   "metadata": {},
   "outputs": [],
   "source": [
    "from sklearn.feature_extraction.text import TfidfVectorizer\n",
    "import nltk\n",
    "stopwords = nltk.corpus.stopwords.words('english')\n",
    "\n",
    "cleaned_text = []\n",
    "\n",
    "for data in train_df['sentence']:\n",
    "    data = list(set(data.split(\" \")) - set(stopwords))\n",
    "    cleaned_text.append(\" \".join(data))\n",
    "\n",
    "\n",
    "TFIDF = TfidfVectorizer(analyzer='word',stop_words='english',ngram_range=(1, 1), max_df=1.0, min_df=1, max_features=None)\n",
    "model = TFIDF.fit_transform(cleaned_text)\n",
    "\n",
    "word = TFIDF.get_feature_names()\n",
    "word \n",
    "\n",
    "sentence_tfidf_df = pd.DataFrame(data=model.toarray(),columns=TFIDF.get_feature_names())"
   ]
  },
  {
   "cell_type": "code",
   "execution_count": 70,
   "metadata": {},
   "outputs": [
    {
     "data": {
      "text/plain": [
       "KNeighborsClassifier()"
      ]
     },
     "execution_count": 70,
     "metadata": {},
     "output_type": "execute_result"
    }
   ],
   "source": [
    "from sklearn.neighbors import KNeighborsClassifier\n",
    "\n",
    "knn = KNeighborsClassifier()\n",
    "knn.fit(sentence_tfidf_df,train_df['emotion_code'])"
   ]
  },
  {
   "cell_type": "code",
   "execution_count": 103,
   "metadata": {},
   "outputs": [
    {
     "data": {
      "text/plain": [
       "<2000x14870 sparse matrix of type '<class 'numpy.float64'>'\n",
       "\twith 14727 stored elements in Compressed Sparse Row format>"
      ]
     },
     "execution_count": 103,
     "metadata": {},
     "output_type": "execute_result"
    }
   ],
   "source": [
    "import helper\n",
    "\n",
    "vectorized = TFIDF.transform(val_df['sentence'])\n",
    "vectorized"
   ]
  },
  {
   "cell_type": "code",
   "execution_count": 104,
   "metadata": {},
   "outputs": [
    {
     "data": {
      "text/plain": [
       "14.05"
      ]
     },
     "execution_count": 104,
     "metadata": {},
     "output_type": "execute_result"
    }
   ],
   "source": [
    "# Validation\n",
    "from sklearn.metrics import accuracy_score\n",
    "accuracy = accuracy_score(knn.predict(vectorized),val_df['emotion_code'])\n",
    "\n",
    "accuracy * 100"
   ]
  },
  {
   "cell_type": "markdown",
   "metadata": {},
   "source": []
  }
 ],
 "metadata": {
  "interpreter": {
   "hash": "6eb5d4f892ac09bf1cf3f91c045b45e17b9cc666339e8a224cd014d404787b33"
  },
  "kernelspec": {
   "display_name": "Python 3.7.0 64-bit ('venv': venv)",
   "language": "python",
   "name": "python3"
  },
  "language_info": {
   "codemirror_mode": {
    "name": "ipython",
    "version": 3
   },
   "file_extension": ".py",
   "mimetype": "text/x-python",
   "name": "python",
   "nbconvert_exporter": "python",
   "pygments_lexer": "ipython3",
   "version": "3.7.0"
  },
  "orig_nbformat": 4
 },
 "nbformat": 4,
 "nbformat_minor": 2
}
